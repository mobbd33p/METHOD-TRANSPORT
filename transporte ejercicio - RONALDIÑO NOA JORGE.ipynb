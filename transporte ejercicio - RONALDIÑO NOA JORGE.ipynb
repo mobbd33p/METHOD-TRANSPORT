{
 "cells": [
  {
   "cell_type": "code",
   "execution_count": 15,
   "id": "f2698c46",
   "metadata": {},
   "outputs": [],
   "source": [
    "import pandas as np\n",
    "from pulp import *\n",
    "from pandas import DataFrame"
   ]
  },
  {
   "cell_type": "code",
   "execution_count": 16,
   "id": "c43dc8ef",
   "metadata": {},
   "outputs": [],
   "source": [
    "\n",
    "origen = [\"cervecería a\", \"cervercería b\"]\n",
    "destino = [\"Bar 1\", \"Bar 2\", \"Bar 3\", \"Bar 4\", \"Bar 5\"]"
   ]
  },
  {
   "cell_type": "code",
   "execution_count": 17,
   "id": "6a73d301",
   "metadata": {},
   "outputs": [],
   "source": [
    "\n",
    "oferta = {'cervecería a': 1000, 'cervercería b' : 4000}\n",
    "demanda = {'Bar 1': 500, 'Bar 2' : 900, 'Bar 3' : 1800, 'Bar 4' : 200, 'Bar 5' : 700}"
   ]
  },
  {
   "cell_type": "code",
   "execution_count": 18,
   "id": "1efa3f89",
   "metadata": {},
   "outputs": [],
   "source": [
    "costo_envio ={'cervecería a':{'Bar 1': 2, 'Bar 2' : 4, 'Bar 3' : 5, 'Bar 4' : 2, 'Bar 5' : 1},\n",
    "             'cervercería b':{'Bar 1': 3, 'Bar 2' : 1, 'Bar 3' : 3, 'Bar 4' : 2, 'Bar 5' : 3}}"
   ]
  },
  {
   "cell_type": "code",
   "execution_count": 19,
   "id": "d14a3fb3",
   "metadata": {},
   "outputs": [],
   "source": [
    "\n",
    "### Resolviendo el problema\n",
    "### Declaramos la función objetivo... nota que buscamos minimizar el costo(LpMinimize)\n",
    "prob = LpProblem('Transporte', LpMinimize)"
   ]
  },
  {
   "cell_type": "code",
   "execution_count": 20,
   "id": "d5c2789d",
   "metadata": {},
   "outputs": [],
   "source": [
    "rutas = [(i,j) for i in origen for j in destino]"
   ]
  },
  {
   "cell_type": "code",
   "execution_count": 21,
   "id": "4c2aba33",
   "metadata": {},
   "outputs": [],
   "source": [
    "cantidad = LpVariable.dicts('Cantidad de Envio',(origen,destino),0)"
   ]
  },
  {
   "cell_type": "code",
   "execution_count": 22,
   "id": "ae1e12de",
   "metadata": {},
   "outputs": [],
   "source": [
    "prob += lpSum(cantidad[i][j]*costo_envio[i][j] for (i,j) in rutas)"
   ]
  },
  {
   "cell_type": "code",
   "execution_count": 23,
   "id": "d2692d6a",
   "metadata": {},
   "outputs": [],
   "source": [
    "for j in destino:\n",
    "    prob += lpSum(cantidad[i][j] for i in origen) == demanda[j]"
   ]
  },
  {
   "cell_type": "code",
   "execution_count": 24,
   "id": "d6fe64ee",
   "metadata": {},
   "outputs": [],
   "source": [
    "for i in origen:\n",
    "    prob += lpSum(cantidad[i][j] for j in destino) <= oferta[i]"
   ]
  },
  {
   "cell_type": "code",
   "execution_count": 25,
   "id": "5621b72a",
   "metadata": {},
   "outputs": [
    {
     "name": "stdout",
     "output_type": "stream",
     "text": [
      "Status: Optimal\n"
     ]
    }
   ],
   "source": [
    "prob.solve()\n",
    "print(\"Status:\", LpStatus[prob.status])"
   ]
  },
  {
   "cell_type": "code",
   "execution_count": 26,
   "id": "f661bd12",
   "metadata": {},
   "outputs": [
    {
     "name": "stdout",
     "output_type": "stream",
     "text": [
      "Cantidad_de_Envio_cervecería_a_Bar_1 = 300.0\n",
      "Cantidad_de_Envio_cervecería_a_Bar_5 = 700.0\n",
      "Cantidad_de_Envio_cervercería_b_Bar_1 = 200.0\n",
      "Cantidad_de_Envio_cervercería_b_Bar_2 = 900.0\n",
      "Cantidad_de_Envio_cervercería_b_Bar_3 = 1800.0\n",
      "Cantidad_de_Envio_cervercería_b_Bar_4 = 200.0\n",
      "El costo mínimo es: 8600.0\n"
     ]
    }
   ],
   "source": [
    "for v in prob.variables():\n",
    "    if v.varValue > 0:\n",
    "        print(v.name, \"=\", v.varValue)\n",
    "print('El costo mínimo es:', value(prob.objective))"
   ]
  },
  {
   "cell_type": "code",
   "execution_count": null,
   "id": "512d1e70",
   "metadata": {},
   "outputs": [],
   "source": []
  }
 ],
 "metadata": {
  "kernelspec": {
   "display_name": "Python 3",
   "language": "python",
   "name": "python3"
  },
  "language_info": {
   "codemirror_mode": {
    "name": "ipython",
    "version": 3
   },
   "file_extension": ".py",
   "mimetype": "text/x-python",
   "name": "python",
   "nbconvert_exporter": "python",
   "pygments_lexer": "ipython3",
   "version": "3.8.3"
  }
 },
 "nbformat": 4,
 "nbformat_minor": 5
}
